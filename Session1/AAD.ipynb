{
  "nbformat": 4,
  "nbformat_minor": 0,
  "metadata": {
    "colab": {
      "provenance": []
    },
    "kernelspec": {
      "name": "python3",
      "display_name": "Python 3"
    },
    "language_info": {
      "name": "python"
    }
  },
  "cells": [
    {
      "cell_type": "markdown",
      "source": [
        "## Adjoint Algorithmic Differentiation\n",
        "\n",
        "Sometimes called reverse. \n",
        "\n",
        "As before, let us suppose that we have a known function $f: \\mathbb{R}^{p_z} \\to \\mathbb{R}$. That is, for $z = (z_0, z_1, \\dots, z_{p_z-1})^\\top$, $f(z) = y \\in \\mathbb{R}$.\n",
        "\n",
        "In this case the goal is to calculate the vector $\\nabla f$ or $\\frac{\\partial f}{\\partial z_i}, \\forall i= 0, \\dots, p_z-1$.\n",
        "\n",
        "We change the approach a little bit since now what is fixed is the output, allways compute the derivative of the output. Thus we operate in the reverse order, starting at $p_z+p_b-1$ and since $\\partial y / \\partial y =1$ then initialize the vector\n",
        "\n",
        "$\\displaystyle \\bar{b} = \\vec{1}$\n"
      ],
      "metadata": {
        "id": "TUmWWDiksmkG"
      }
    },
    {
      "cell_type": "code",
      "execution_count": null,
      "metadata": {
        "id": "9Lj6dLiPsicO"
      },
      "outputs": [],
      "source": [
        "from math import *\n",
        " \n",
        "def f(z):\n",
        "  b4 = z[0] + exp(z[1])\n",
        "  b5 = sin(z[2]) + cos(z[3])\n",
        "  b6 = pow(z[1],1.5) + z[3]\n",
        "  b7 = cos(b4)*b5 + b6\n",
        "  return [b4,b5,b6,b7]"
      ]
    },
    {
      "cell_type": "markdown",
      "source": [
        "now set the vector of derivatives $\\bar{b}$, this vector has dimension $p_z \\times 1$"
      ],
      "metadata": {
        "id": "mQyXDkJG2GBG"
      }
    },
    {
      "cell_type": "code",
      "source": [
        "import numpy as np\n",
        "z = np.array([1,0.2,0,0.5])\n",
        "b = np.concatenate((z,f(z)), axis=0)\n",
        "pz = 4\n",
        "pb = 4\n",
        "bbar = bdot = np.array([0.0]*(pz+pb))\n",
        "# derivatives of the last variables\n",
        "bbar[pz+pb-1] = bbar[pz+pb-1] +1\n",
        "print(bbar)"
      ],
      "metadata": {
        "colab": {
          "base_uri": "https://localhost:8080/"
        },
        "id": "U-p0mb6v2pj_",
        "outputId": "6d00c5da-89ce-4b41-d243-4907d16f7e81"
      },
      "execution_count": null,
      "outputs": [
        {
          "output_type": "stream",
          "name": "stdout",
          "text": [
            "[0. 0. 0. 0. 0. 0. 0. 1.]\n"
          ]
        }
      ]
    },
    {
      "cell_type": "markdown",
      "source": [
        "We again use the chain rule to calculate the next steps (backwards),\n",
        "\n",
        "$\\displaystyle \\bar{b}[p_z+p_b-2] = \\sum_{k=p_z+p_b-1}^{p_z+p_b-1} \\frac{\\partial y}{\\partial b_k} \\frac{\\partial b_k}{\\partial b_j} = \\sum_{k=p_z+p_b-1}^{p_z+p_b-1} \\bar{b}[k] \\frac{\\partial b_k}{\\partial b_{p_z+p_b-2}} $\n",
        "\n",
        "off course in this notation $b_k = z_k,$ if $k <p_z$.\n",
        "\n",
        "And in this particular case we have $b_7 = \\cos(b_4)b_5 + b_6$, so $\\bar{b}_6$ derivatives with respect to $b_6$ is\n",
        "\n",
        "$\\displaystyle \\bar{b}[p_z+p_b-2] = \\bar{b}[p_z+p_b-1] \\frac{\\partial b_{p_z+p_b-1}}{\\partial b_{p_z+p_b-2}} = \\bar{b}[7] \\frac{\\partial b_7}{\\partial b_6}= 1\\bar{b}[7]$\n",
        "\n",
        "for $\\bar{b}_5$\n",
        "\n",
        "$\\displaystyle \\bar{b}[5] = \\sum_{k=6}^{7} \\bar{b}[k] \\frac{\\partial b_k}{\\partial b_{5}} = \\bar{b}[6] \\frac{\\partial b_{6}}{\\partial b_{5}} + \\bar{b}[7] \\frac{\\partial b_7}{\\partial b_5} = 0 \\bar{b}[6] + \\cos(b_4) \\bar{b}[7]$\n",
        "\n",
        "and $\\bar{b}_4$\n",
        "\n",
        "$\\displaystyle \\bar{b}[4] = \\sum_{k=5}^{7} \\bar{b}[k] \\frac{\\partial b_k}{\\partial b_{4}} = \\bar{b}[5] \\frac{\\partial b_{5}}{\\partial b_{4}} +\\bar{b}[6] \\frac{\\partial b_{6}}{\\partial b_{4}} + \\bar{b}[7] \\frac{\\partial b_7}{\\partial b_4} $\n",
        "\n",
        "  $= 0 \\bar{b}[5] + 0 \\bar{b}[6] - \\sin(b_4)b_5 \\bar{b}[7]$\n"
      ],
      "metadata": {
        "id": "DJkzF2OJ3g0-"
      }
    },
    {
      "cell_type": "code",
      "source": [
        "bbar[6] = 1*bbar[7]\n",
        "bbar[5] = cos(b[4])*bbar[7]\n",
        "bbar[4] = -(sin(b[4])*b[5])*bbar[7]\n",
        "print(bbar)"
      ],
      "metadata": {
        "colab": {
          "base_uri": "https://localhost:8080/"
        },
        "id": "IRVUvQgY7UEZ",
        "outputId": "f1c4d2f5-7c94-4fe5-efc4-8b13a520403d"
      },
      "execution_count": null,
      "outputs": [
        {
          "output_type": "stream",
          "name": "stdout",
          "text": [
            "[ 0.          0.          0.          0.         -0.69830705 -0.60566906\n",
            "  1.          1.        ]\n"
          ]
        }
      ]
    },
    {
      "cell_type": "markdown",
      "source": [
        "$b_4 = b_0 + e^{b_1}$\n",
        "\n",
        "$b_5 = \\sin(b_2) + \\cos(b_3)$\n",
        "\n",
        "$b_6 = b_1^{3/2} + b_3$\n",
        "\n",
        "Applying the same idea, for the actual variables $i < p_a$ we have\n",
        "\n",
        "$\\displaystyle \\bar{b}[3] = \\bar{b}[4] 0 + \\bar{b}[5] (-\\sin(b_3)) + \\bar{b}[6] 1 + \\bar{b}[7] 0 $\n",
        "\n",
        "$\\displaystyle \\dot{b}[2] = \\bar{b}[3] 0 + \\bar{b}[4] 0 + \\bar{b}[5] \\cos(b_2) + \\bar{b}[6] 0 + \\bar{b}[7] 0$\n",
        "\n",
        "$\\displaystyle \\dot{b}[1] = \\bar{b}[2] 0 +\\bar{b}[3] 0 + \\bar{b}[4] e^{b_1} + \\bar{b}[5] 0 + \\bar{b}[6] \\frac{3}{2} \\sqrt{b_1} + \\bar{b}[7] 0$\n",
        "\n",
        "$\\displaystyle \\dot{b}[0] = \\bar{b}[1] 0 +\\bar{b}[2] 0 +\\bar{b}[3] 0 + \\bar{b}[4] 1 + \\bar{b}[5] 0 + \\bar{b}[6] 0 + \\bar{b}[7] 0$\n"
      ],
      "metadata": {
        "id": "HtBNdMAI8Agz"
      }
    },
    {
      "cell_type": "code",
      "source": [
        "bbar[3] = -sin(b[3])*bbar[5] + 1*bbar[6]\n",
        "bbar[2] = cos(b[2])*bbar[5]\n",
        "bbar[1] = exp(b[1])*bbar[4]+ 1.5*sqrt(b[1])*bbar[6]\n",
        "bbar[0] = bbar[4]\n",
        "\n",
        "print(bbar[:4])"
      ],
      "metadata": {
        "colab": {
          "base_uri": "https://localhost:8080/"
        },
        "id": "McMl5vkcAN2t",
        "outputId": "89e87deb-e1e2-41e9-e9c0-94ede91a3681"
      },
      "execution_count": null,
      "outputs": [
        {
          "output_type": "stream",
          "name": "stdout",
          "text": [
            "[-0.69830705 -0.18209377 -0.60566906  1.29037322]\n"
          ]
        }
      ]
    }
  ]
}
