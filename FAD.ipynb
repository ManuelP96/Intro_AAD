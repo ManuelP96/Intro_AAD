{
  "nbformat": 4,
  "nbformat_minor": 0,
  "metadata": {
    "colab": {
      "provenance": []
    },
    "kernelspec": {
      "name": "python3",
      "display_name": "Python 3"
    },
    "language_info": {
      "name": "python"
    }
  },
  "cells": [
    {
      "cell_type": "markdown",
      "source": [
        "## Forward Algorithmic Differentiation\n",
        "\n",
        "Let us suppose that we have a known function $f: \\mathbb{R}^{p_z} \\to \\mathbb{R}$. That is, for $z = (z_0, z_1, \\dots, a_{p_z-1})^\\top$, $f(z) = y \\in \\mathbb{R}$.\n",
        "\n",
        "In this case the goal is to calculate the vector $\\nabla f$ or $\\frac{\\partial f}{\\partial z_i}, \\forall i= 0, \\dots, p_z-1$.\n",
        "\n",
        "Suppose also that the function $f$ computationally is calculated in $p_b$ steps (i.e. $b_1, \\dots, b_{p_b}=f$), thus we are going to calculate the derivatives with respect to these intermediate steps as well. Calling $\\dot{b}[j,i]$ the derivative of the $j^{th}$ step/variable with respect to $z_i$, we have the following matrix\n",
        "\n",
        "$$\\dot{b} = \\begin{array}{c|c|c|c|c|} \n",
        "&0 & 1 & \\dots & p_z -1 \\\\ \n",
        "\\hline \\\\ \n",
        "0 & 1 & 0 & \\dots & 0 \\\\\n",
        "\\hline \\\\ \n",
        "1 & 0 & 1 & \\dots & 0 \\\\\n",
        "\\hline \\\\ \n",
        "\\vdots & \\vdots & \\vdots & \\ddots & \\vdots \\\\\n",
        "\\hline \\\\ \n",
        "p_z-1 & 0 & 0 & \\dots & 1 \\\\\n",
        "\\hline \\\\ \n",
        "p_z & \\frac{\\partial b_1}{\\partial z_0} & \\frac{\\partial b_1}{\\partial z_1} & \\dots & \\frac{\\partial b_1}{\\partial z_{p_z-1}} \\\\\n",
        "\\hline \\\\ \n",
        "p_z+1 & \\frac{\\partial b_2}{\\partial z_0} & \\frac{\\partial b_2}{\\partial z_1} & \\dots & \\frac{\\partial b_2}{\\partial z_{p_z-1}} \\\\\n",
        "\\hline \\\\ \n",
        "\\vdots & \\vdots & \\vdots & \\ddots & \\vdots \\\\\n",
        "\\hline \\\\ \n",
        "p_z+p_b-1 & \\frac{\\partial f}{\\partial z_0} & \\frac{\\partial f}{\\partial z_1} & \\dots & \\frac{\\partial f}{\\partial z_{p_z-1}} \\\\\n",
        "\\hline \n",
        "\\end{array}\n",
        "=\n",
        "\\begin{array}{|c|}\n",
        "\\hline\n",
        "\\dot{b}[0] \\\\\n",
        "\\hline\n",
        "\\dot{b}[1] \\\\\n",
        "\\hline\n",
        "\\dot{b}[2] \\\\\n",
        "\\hline\n",
        "\\dot{b}[3] \\\\\n",
        "\\hline\n",
        "\\dot{b}[4] \\\\\n",
        "\\hline\n",
        "\\dot{b}[5] \\\\\n",
        "\\hline\n",
        "\\dot{b}[6] \\\\\n",
        "\\hline\n",
        "\\dot{b}[7] \\\\\n",
        "\\hline\n",
        "\\end{array}\n",
        "$$"
      ],
      "metadata": {
        "id": "TUmWWDiksmkG"
      }
    },
    {
      "cell_type": "markdown",
      "source": [
        "Example:\n",
        "\n",
        "$f(z_0, z_1, z_2, z_3) = \\cos \\left( z_0 + e^{z_1} \\right) \\left( \\sin(z_2) + \\cos(z_3) \\right) +z_1^{3/2} + z_3$\n",
        "\n",
        "Note that the gradient is easily calculated as:\n",
        "\n",
        "$\\nabla f = \\begin{pmatrix} \n",
        "-\\sin \\left( z_0 + e^{z_1} \\right) \\left( \\sin(z_2) + \\cos(z_3) \\right) \\\\ \n",
        "-\\sin \\left( z_0 + e^{z_1} \\right) e^{z_1}\\left( \\sin(z_2) + \\cos(z_3) \\right) +\\frac{3}{2} \\sqrt{z_1}\\\\\n",
        "\\cos \\left( z_0 + e^{z_1} \\right) \\cos(z_2)\\\\\n",
        "-\\cos \\left( z_0 + e^{z_1} \\right) \\sin(z_3) + 1\n",
        "\\end{pmatrix} $\n",
        "\n",
        "We divide the function $f$ into $4$ simple steps (i.e. $p_b =4$), that is "
      ],
      "metadata": {
        "id": "09LiTNfnDi_b"
      }
    },
    {
      "cell_type": "code",
      "execution_count": null,
      "metadata": {
        "id": "9Lj6dLiPsicO"
      },
      "outputs": [],
      "source": [
        "from math import *\n",
        " \n",
        "def f(z):\n",
        "  b4 = z[0] + exp(z[1])\n",
        "  b5 = sin(z[2]) + cos(z[3])\n",
        "  b6 = pow(z[1],1.5) + z[3]\n",
        "  b7 = cos(b4)*b5 + b6\n",
        "  return [b4,b5,b6,b7]"
      ]
    },
    {
      "cell_type": "markdown",
      "source": [
        "now set the vector of derivatives $\\dot{b}$, this vector has dimension $(p_z+p_b) \\times p_z$"
      ],
      "metadata": {
        "id": "mQyXDkJG2GBG"
      }
    },
    {
      "cell_type": "code",
      "source": [
        "import numpy as np\n",
        "z = np.array([1,0.2,0,0.5])\n",
        "b = np.concatenate((z,f(z)), axis=0)\n",
        "pz = 4\n",
        "pb = 4\n",
        "bdot = np.zeros((pz+pb,pz))\n",
        "# derivatives of the variables\n",
        "for i in range(pz):\n",
        "  bdot[i,i] = 1\n",
        "print(bdot)"
      ],
      "metadata": {
        "colab": {
          "base_uri": "https://localhost:8080/"
        },
        "id": "U-p0mb6v2pj_",
        "outputId": "ed1aaf17-df36-4093-efe8-627f9bdb4320"
      },
      "execution_count": null,
      "outputs": [
        {
          "output_type": "stream",
          "name": "stdout",
          "text": [
            "[[1. 0. 0. 0.]\n",
            " [0. 1. 0. 0.]\n",
            " [0. 0. 1. 0.]\n",
            " [0. 0. 0. 1.]\n",
            " [0. 0. 0. 0.]\n",
            " [0. 0. 0. 0.]\n",
            " [0. 0. 0. 0.]\n",
            " [0. 0. 0. 0.]]\n"
          ]
        }
      ]
    },
    {
      "cell_type": "markdown",
      "source": [
        "for the first line of derivatives of internal functions, (i.e. $b_4$) we have\n",
        "\n",
        "$b_4(z) = z_0 + e^{z_1} $ thus its gradient $\\nabla b_4 = (1,e^{z_1},0,0)^{\\top}$\n",
        "\n",
        "note that at this stage the row index is $i = p_z = 4$ thus we can use the chain rule and apply the gradient and the internal derivatives already calculated, that is\n",
        "\n",
        "$\\displaystyle \\dot{b}[p_z,j] = \\sum_{k=0}^{p_z-1} \\frac{\\partial b_{p_z}}{\\partial b_k} \\frac{\\partial b_k}{\\partial b_j} = \\sum_{k=0}^{p_z-1} \\frac{\\partial b_{p_z}}{\\partial b_k} \\dot{b}[k,j]$\n",
        "\n",
        "off course in this notation $b_k = a_k,$ if $k <p_a$.\n",
        "\n",
        "And in this particular case\n",
        "\n",
        "$\\displaystyle \\dot{b}[p_z,j] = \\frac{\\partial b_{p_z}}{\\partial b_0} \\dot{b}[0,j] + \\frac{\\partial b_{p_z}}{\\partial b_1} \\dot{b}[1,j] + \\frac{\\partial b_{p_z}}{\\partial b_2} \\dot{b}[2,j] + \\frac{\\partial b_{p_z}}{\\partial b_3} \\dot{b}[3,j] = 1 \\dot{b}[0,j] + e^{b_1} \\dot{b}[1,j] + 0 \\dot{b}[2,j] + 0 \\dot{b}[3,j]$\n"
      ],
      "metadata": {
        "id": "DJkzF2OJ3g0-"
      }
    },
    {
      "cell_type": "code",
      "source": [
        "i = pz\n",
        "for j in range(i):\n",
        "  bdot[i,j] = bdot[0,j] + exp(b[1])*bdot[1,j]\n",
        "print(bdot)"
      ],
      "metadata": {
        "colab": {
          "base_uri": "https://localhost:8080/"
        },
        "id": "IRVUvQgY7UEZ",
        "outputId": "3f3d2f2a-ec52-4b7f-c744-f8e121b7915d"
      },
      "execution_count": null,
      "outputs": [
        {
          "output_type": "stream",
          "name": "stdout",
          "text": [
            "[[1.         0.         0.         0.        ]\n",
            " [0.         1.         0.         0.        ]\n",
            " [0.         0.         1.         0.        ]\n",
            " [0.         0.         0.         1.        ]\n",
            " [1.         1.22140276 0.         0.        ]\n",
            " [0.         0.         0.         0.        ]\n",
            " [0.         0.         0.         0.        ]\n",
            " [0.         0.         0.         0.        ]]\n"
          ]
        }
      ]
    },
    {
      "cell_type": "markdown",
      "source": [
        "Applying the same idea, we have\n",
        "\n",
        "$\\displaystyle \\dot{b}[5,j] = \\sum_{k=0}^{4} \\frac{\\partial b_5}{\\partial b_k} \\frac{\\partial b_k}{\\partial z_j} $\n",
        "\n",
        "That is (note the derivative with respect to $b_4$):\n",
        "\n",
        "$\\displaystyle \\dot{b}[5,j] = \\frac{\\partial b_{5}}{\\partial b_0} \\dot{b}[0,j] + \\frac{\\partial b_{5}}{\\partial b_1} \\dot{b}[1,j] + \\frac{\\partial b_{5}}{\\partial b_2} \\dot{b}[2,j] + \\frac{\\partial b_{5}}{\\partial b_3} \\dot{b}[3,j] + \\frac{\\partial b_{5}}{\\partial b_4} \\dot{b}[4,j] $\n",
        "\n",
        "And in this particular case\n",
        "\n",
        "$\\displaystyle \\dot{b}[5,j] = \\cos(b_2) \\dot{b}[2,j] - \\sin(b_3) \\dot{b}[3,j]$\n",
        "\n",
        "therefore we also have\n",
        "\n",
        "$\\displaystyle \\dot{b}[6,j] = \\frac{3}{2}\\sqrt{b_1} \\dot{b}[1,j] + \\dot{b}[3,j]$\n",
        "\n",
        "$\\displaystyle \\dot{b}[7,j] = -\\sin(b_4) b_5 \\dot{b}[4,j] + \\cos(b_4) \\dot{b}[5,j] + \\dot{b}[6,j]$\n"
      ],
      "metadata": {
        "id": "HtBNdMAI8Agz"
      }
    },
    {
      "cell_type": "code",
      "source": [
        "i += 1\n",
        "for j in range(pz):\n",
        "  bdot[i,j] = cos(b[2])*bdot[2,j] - sin(b[3])*bdot[3,j]\n",
        "i += 1\n",
        "for j in range(pz):\n",
        "  bdot[i,j] = 1.5*sqrt(b[1])*bdot[1,j] + bdot[3,j]\n",
        "i += 1\n",
        "for j in range(pz):\n",
        "  bdot[i,j] = -sin(b[4])*b[5]*bdot[4,j] + cos(b[4])*bdot[5,j] + bdot[6,j]\n",
        "print(bdot)"
      ],
      "metadata": {
        "colab": {
          "base_uri": "https://localhost:8080/"
        },
        "id": "McMl5vkcAN2t",
        "outputId": "8d73a521-8089-49da-ac0a-c0fae1302236"
      },
      "execution_count": null,
      "outputs": [
        {
          "output_type": "stream",
          "name": "stdout",
          "text": [
            "[[ 1.          0.          0.          0.        ]\n",
            " [ 0.          1.          0.          0.        ]\n",
            " [ 0.          0.          1.          0.        ]\n",
            " [ 0.          0.          0.          1.        ]\n",
            " [ 1.          1.22140276  0.          0.        ]\n",
            " [ 0.          0.          1.         -0.47942554]\n",
            " [ 0.          0.67082039  0.          1.        ]\n",
            " [-0.69830705 -0.18209377 -0.60566906  1.29037322]]\n"
          ]
        }
      ]
    },
    {
      "cell_type": "markdown",
      "source": [
        "The result is in the last line"
      ],
      "metadata": {
        "id": "OZ3rtNcvAzQ0"
      }
    },
    {
      "cell_type": "code",
      "source": [
        "print(bdot[pz+pb-1])\n",
        "print(cos(1+exp(0.2)))"
      ],
      "metadata": {
        "colab": {
          "base_uri": "https://localhost:8080/"
        },
        "id": "bZAvk782AxyQ",
        "outputId": "5fba8582-8b27-46fc-89f4-582977d3d484"
      },
      "execution_count": null,
      "outputs": [
        {
          "output_type": "stream",
          "name": "stdout",
          "text": [
            "[-0.69830705 -0.18209377 -0.60566906  1.29037322]\n",
            "-0.6056690646099043\n"
          ]
        }
      ]
    }
  ]
}